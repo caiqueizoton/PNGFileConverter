{
 "cells": [
  {
   "cell_type": "code",
   "execution_count": null,
   "id": "c3154c04",
   "metadata": {},
   "outputs": [],
   "source": [
    "import os, glob\n",
    "from PIL import Image\n",
    "\n",
    "# Function to convert image files in a directory\n",
    "def converter_function(contents_directory):\n",
    "    for items in (contents_directory):\n",
    "            f, e = os.path.splitext(items)\n",
    "            converted_items = f + \".jpg\"\n",
    "            if items != converted_items:\n",
    "                try:\n",
    "                    with Image.open(items) as im:\n",
    "                        rgb_im = im.convert('RGB')\n",
    "                        rgb_im.save(converted_items)\n",
    "                except OSError:\n",
    "                    print(\"cannot convert\", items)\n",
    "    print (\"Conversion concluded.\")\n",
    "\n",
    "# Prompt the user for path to directory with files to be converted\n",
    "while True:\n",
    "    file_path = input('Enter the path to the file or directory containing multiple files to be converted:')      \n",
    "    if os.path.exists(file_path):\n",
    "    # If path is valid, exit loop and proceede\n",
    "        break\n",
    "    else:\n",
    "        print ('Path is invalid. Please try again.')\n",
    "\n",
    "# Prompt the user to include subdirectories in the conversion\n",
    "for root, directories, files in os.walk(file_path):\n",
    "    if directories:\n",
    "        while True:\n",
    "            subdir_choice = input('Do you want to include sub directories in the conversion? yes/no').strip().lower()\n",
    "            if subdir_choice != 'yes' and subdir_choice != 'no':\n",
    "                print ('Invalid input. Please enter \"yes\" or \"no\".')\n",
    "            else:\n",
    "                break\n",
    "                \n",
    "# Generate a list of image files, considering subdirectory inclusion choice\n",
    "if subdir_choice == 'yes':\n",
    "    contents_dir = glob.glob(file_path + '/**/*.png', recursive=True)\n",
    "elif subdir_choice == 'no':\n",
    "    contents_dir = glob.glob(file_path + '/*.png', recursive=False)\n",
    "\n",
    "# Call the conversion function with the selected image files\n",
    "converter_function(contents_dir)"
   ]
  }
 ],
 "metadata": {
  "kernelspec": {
   "display_name": "Python 3 (ipykernel)",
   "language": "python",
   "name": "python3"
  },
  "language_info": {
   "codemirror_mode": {
    "name": "ipython",
    "version": 3
   },
   "file_extension": ".py",
   "mimetype": "text/x-python",
   "name": "python",
   "nbconvert_exporter": "python",
   "pygments_lexer": "ipython3",
   "version": "3.9.7"
  }
 },
 "nbformat": 4,
 "nbformat_minor": 5
}
